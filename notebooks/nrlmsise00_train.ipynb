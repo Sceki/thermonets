{
 "cells": [
  {
   "cell_type": "markdown",
   "metadata": {},
   "source": [
    "# Feed-forward training"
   ]
  },
  {
   "cell_type": "markdown",
   "metadata": {},
   "source": [
    "## Imports"
   ]
  },
  {
   "cell_type": "code",
   "execution_count": 1,
   "metadata": {},
   "outputs": [],
   "source": [
    "import sys\n",
    "sys.path.append('../')\n",
    "\n",
    "import thermonets as tn\n",
    "import torch\n",
    "import datetime\n",
    "import numpy as np\n",
    "import matplotlib.pyplot as plt\n",
    "import pickle"
   ]
  },
  {
   "cell_type": "markdown",
   "metadata": {},
   "source": [
    "## Loading input data"
   ]
  },
  {
   "cell_type": "code",
   "execution_count": 2,
   "metadata": {},
   "outputs": [
    {
     "name": "stdout",
     "output_type": "stream",
     "text": [
      "Shape of database is: (999700, 14)\n"
     ]
    }
   ],
   "source": [
    "#Loads the data generated via `/scripts/generate_nrlmsise00_db.py` and print the columns\n",
    "#note that columns can be (len 16):\n",
    "#'day', 'month', 'year', 'hour', 'minute', 'second', 'microsecond', 'alt [km]', 'lat [deg]', 'lon [deg]', 'f107A', 'f107', 'ap', 'wind zonal [m/s]', 'wind meridional [m/s]', 'density [kg/m^3]'\n",
    "#or (len 14):\n",
    "#'day', 'month', 'year', 'hour', 'minute', 'second', 'microsecond', 'alt [km]', 'lat [deg]', 'lon [deg]', 'f107A', 'f107', 'ap', 'density [kg/m^3]'\n",
    "db=np.loadtxt('../dbs/nrlmsise00_db.txt',delimiter=',',skiprows=1)\n",
    "print(f'Shape of database is: {db.shape}')"
   ]
  },
  {
   "cell_type": "markdown",
   "metadata": {},
   "source": [
    "## Extracting features of interest"
   ]
  },
  {
   "cell_type": "code",
   "execution_count": 3,
   "metadata": {},
   "outputs": [
    {
     "name": "stdout",
     "output_type": "stream",
     "text": [
      "seconds in day min and max:\n",
      "20.64977 86392.51835\n",
      "day of the year min and max:\n",
      "1.0 365.0\n"
     ]
    }
   ],
   "source": [
    "# Renames some of the db content with readable names\n",
    "days=db[:,0]\n",
    "months=db[:,1]\n",
    "years=db[:,2]\n",
    "hours=db[:,3]\n",
    "minutes=db[:,4]\n",
    "seconds=db[:,5]\n",
    "microseconds=db[:,6]\n",
    "alt=db[:,7]\n",
    "# Geodetic longitude and latitude are converted in radians:\n",
    "lat=np.deg2rad(db[:,8])\n",
    "lon=np.deg2rad(db[:,9])\n",
    "# Space weather indices:\n",
    "f107a=db[:,10]\n",
    "f107=db[:,11]\n",
    "ap=db[:,12]\n",
    "# Atmospheric density as well:\n",
    "target_density=db[:,-1]\n",
    "\n",
    "# We need to extract from the db also the doy (Day of Year) and the sid (seconds in day)\n",
    "seconds_in_day=hours*3600+minutes*60+seconds+microseconds/1e6\n",
    "print('seconds in day min and max:')\n",
    "print(seconds_in_day.min(), seconds_in_day.max())\n",
    "doys=np.zeros(db.shape[0])\n",
    "for i in range(len(db)):\n",
    "    #date is a string, so I first convert it to datetime:\n",
    "    date_=datetime.datetime(year=int(years[i]), \n",
    "                            month=int(months[i]), \n",
    "                            day=int(days[i]),\n",
    "                            hour=int(hours[i]),\n",
    "                            minute=int(minutes[i]),\n",
    "                            second=int(seconds[i]),\n",
    "                            microsecond=int(microseconds[i]))\n",
    "    doys[i]=date_.timetuple().tm_yday\n",
    "print('day of the year min and max:')\n",
    "print(doys.min(), doys.max())"
   ]
  },
  {
   "cell_type": "markdown",
   "metadata": {},
   "source": [
    "## Normalization"
   ]
  },
  {
   "cell_type": "code",
   "execution_count": 4,
   "metadata": {},
   "outputs": [
    {
     "name": "stdout",
     "output_type": "stream",
     "text": [
      "maximum and minimum of all the normalized data: 0.9761904761904763, -1.0\n",
      "maximum and minimum of target density: 7.20569529348575e-10, 1.9693989513886182e-16\n"
     ]
    }
   ],
   "source": [
    "db_processed=np.zeros((db.shape[0],13))\n",
    "db_processed[:,0]=np.sin(lon)\n",
    "db_processed[:,1]=np.cos(lon)\n",
    "db_processed[:,2]=np.sin(lat)\n",
    "db_processed[:,3]=np.sin(2*np.pi*seconds_in_day/86400.)\n",
    "db_processed[:,4]=np.cos(2*np.pi*seconds_in_day/86400.)\n",
    "db_processed[:,5]=np.sin(2*np.pi*doys/365.25)\n",
    "db_processed[:,6]=np.cos(2*np.pi*doys/365.25)\n",
    "db_processed[:,7]=tn.normalize_min_max(f107, 60., 266.)\n",
    "db_processed[:,8]=tn.normalize_min_max(f107a, 60., 266.)\n",
    "db_processed[:,9]=tn.normalize_min_max(ap, 0., 110.)\n",
    "db_processed[:,10]=tn.normalize_min_max(alt, 170., 1010.)\n",
    "\n",
    "#Add the non-normalized density & altitude columns (useful to extract during training):\n",
    "db_processed[:,11]= alt\n",
    "db_processed[:,12]= target_density\n",
    "\n",
    "# Cross check that the max is <=1 and the min is >=-1\n",
    "print(f\"maximum and minimum of all the normalized data: {db_processed[:,7:11].max()}, {db_processed[:,7:11].min()}\")\n",
    "print(f\"maximum and minimum of target density: {target_density.max()}, {target_density.min()}\")"
   ]
  },
  {
   "cell_type": "markdown",
   "metadata": {},
   "source": [
    "## NN Training"
   ]
  },
  {
   "cell_type": "code",
   "execution_count": 5,
   "metadata": {},
   "outputs": [],
   "source": [
    "torch_data = torch.tensor(db_processed, dtype=torch.float32)"
   ]
  },
  {
   "cell_type": "code",
   "execution_count": 6,
   "metadata": {},
   "outputs": [],
   "source": [
    "# NN hyperparameters\n",
    "device = torch.device('cpu')\n",
    "minibatch_size = 4096\n",
    "model_path = None #pass a path to a model in case you want to continue training from a file\n",
    "lr = 0.001\n",
    "epochs = 100"
   ]
  },
  {
   "cell_type": "code",
   "execution_count": 15,
   "metadata": {},
   "outputs": [],
   "source": [
    "#NN creation\n",
    "model = tn.ffnn(input_dim=db_processed.shape[1]-3,\n",
    "                        hidden_layer_dims=[32, 32],\n",
    "                        output_dim=12,\n",
    "                        mid_activation=torch.nn.Tanh(),\n",
    "                        last_activation=torch.nn.Tanh()).to(device)\n",
    "\n",
    "if model_path is not None:\n",
    "    model.load_state_dict(torch.load(model_path,\n",
    "                                     map_location=device.type))"
   ]
  },
  {
   "cell_type": "code",
   "execution_count": 16,
   "metadata": {},
   "outputs": [],
   "source": [
    "# Here we set the optimizer\n",
    "lr = 1e-3\n",
    "optimizer = torch.optim.Adam(model.parameters(), lr=lr)\n",
    "scheduler = torch.optim.lr_scheduler.ReduceLROnPlateau(optimizer, factor = 0.8, patience = 1000, min_lr = 1e-7, verbose=False)\n",
    "#criterion = tn.MAPE()\n",
    "criterion = tn.MSE_LOG10()\n",
    "\n",
    "# And the dataloader\n",
    "dataloader = torch.utils.data.DataLoader(torch_data, \n",
    "                                         batch_size=minibatch_size, \n",
    "                                         shuffle=True)\n"
   ]
  },
  {
   "cell_type": "code",
   "execution_count": 17,
   "metadata": {},
   "outputs": [
    {
     "name": "stdout",
     "output_type": "stream",
     "text": [
      "Total number of model parameters: 1804\n"
     ]
    }
   ],
   "source": [
    "print(f'Total number of model parameters: {sum(p.numel() for p in model.parameters())}')"
   ]
  },
  {
   "cell_type": "markdown",
   "metadata": {},
   "source": [
    "We load the global fit (see notebook: `rho_global_fit.ipynb`: this will be the baseline from which we ask the NN to learn corrections)"
   ]
  },
  {
   "cell_type": "code",
   "execution_count": 18,
   "metadata": {},
   "outputs": [],
   "source": [
    "with open('../global_fits/global_fit_nrlmsise00_180.0-1000.0-4.txt','rb') as f:\n",
    "    best_global_fit=torch.from_numpy(pickle.load(f)).to(device)"
   ]
  },
  {
   "cell_type": "code",
   "execution_count": 19,
   "metadata": {},
   "outputs": [
    {
     "name": "stdout",
     "output_type": "stream",
     "text": [
      "Epoch 1/100, lr: 1.0e-03, average MSE (log10) loss: 0.03530084914622866, average MAPE: 34.315635307467716                                                                                                                                                             \n",
      "Epoch 2/100, lr: 1.0e-03, average MSE (log10) loss: 0.009809552684274254, average MAPE: 16.881024461862992                                                                                                                                                             \n",
      "Epoch 3/100, lr: 1.0e-03, average MSE (log10) loss: 0.00598497655128642, average MAPE: 13.301208204152633                                                                                                                                                             \n",
      "Epoch 4/100, lr: 1.0e-03, average MSE (log10) loss: 0.005012859789920705, average MAPE: 12.159194681595784                                                                                                                                                             \n",
      "Epoch 5/100, lr: 1.0e-03, average MSE (log10) loss: 0.0044622799894791475, average MAPE: 11.449686404636928                                                                                                                                                             \n",
      "Epoch 6/100, lr: 1.0e-03, average MSE (log10) loss: 0.004066567564839307, average MAPE: 10.90363613440066                                                                                                                                                             \n",
      "Epoch 7/100, lr: 1.0e-03, average MSE (log10) loss: 0.003753645491919347, average MAPE: 10.445977491262008                                                                                                                                                             \n",
      "Epoch 8/100, lr: 1.0e-03, average MSE (log10) loss: 0.0034627880131331635, average MAPE: 9.996190429220395                                                                                                                                                             \n",
      "Epoch 9/100, lr: 1.0e-03, average MSE (log10) loss: 0.003230231315163629, average MAPE: 9.629966350477568                                                                                                                                                             \n",
      "Epoch 10/100, lr: 1.0e-03, average MSE (log10) loss: 0.003078076835455639, average MAPE: 9.390854193239797                                                                                                                                                             \n",
      "Epoch 11/100, lr: 1.0e-03, average MSE (log10) loss: 0.0029144629503467254, average MAPE: 9.126863401763293                                                                                                                                                             \n",
      "Epoch 12/100, lr: 1.0e-03, average MSE (log10) loss: 0.0027759669092008656, average MAPE: 8.899382240918218                                                                                                                                                             \n",
      "Epoch 13/100, lr: 1.0e-03, average MSE (log10) loss: 0.0026417614645039547, average MAPE: 8.683802014954235                                                                                                                                                             \n",
      "Epoch 14/100, lr: 1.0e-03, average MSE (log10) loss: 0.0025168215114699335, average MAPE: 8.478409358433314                                                                                                                                                             \n",
      "Epoch 15/100, lr: 1.0e-03, average MSE (log10) loss: 0.00240672908875407, average MAPE: 8.297057005823875                                                                                                                                                             \n",
      "Epoch 16/100, lr: 1.0e-03, average MSE (log10) loss: 0.0023001134533397094, average MAPE: 8.118988982998594                                                                                                                                                             \n",
      "Epoch 17/100, lr: 1.0e-03, average MSE (log10) loss: 0.0022127483999926827, average MAPE: 7.9673534763102625                                                                                                                                                             \n",
      "Epoch 18/100, lr: 1.0e-03, average MSE (log10) loss: 0.0021357613881783826, average MAPE: 7.837192648284289                                                                                                                                                             \n",
      "Epoch 19/100, lr: 1.0e-03, average MSE (log10) loss: 0.00204631499280887, average MAPE: 7.669340729226872                                                                                                                                                             \n",
      "Epoch 20/100, lr: 1.0e-03, average MSE (log10) loss: 0.0019941335049818974, average MAPE: 7.578098199805435                                                                                                                                                             \n",
      "Epoch 21/100, lr: 1.0e-03, average MSE (log10) loss: 0.0019418784968402922, average MAPE: 7.48382706934092                                                                                                                                                             \n",
      "Epoch 22/100, lr: 1.0e-03, average MSE (log10) loss: 0.001880453867191563, average MAPE: 7.362595404410849                                                                                                                                                             \n",
      "Epoch 23/100, lr: 8.0e-04, average MSE (log10) loss: 0.0018321533758687426, average MAPE: 7.26614871511654                                                                                                                                                             \n",
      "Epoch 24/100, lr: 8.0e-04, average MSE (log10) loss: 0.0017914378069987407, average MAPE: 7.1856937836627575                                                                                                                                                             \n",
      "Epoch 25/100, lr: 8.0e-04, average MSE (log10) loss: 0.0017679456355316299, average MAPE: 7.14320663335372                                                                                                                                                             \n",
      "Epoch 26/100, lr: 8.0e-04, average MSE (log10) loss: 0.0017335920300030586, average MAPE: 7.070168218807298                                                                                                                                                             \n",
      "Epoch 27/100, lr: 6.4e-04, average MSE (log10) loss: 0.0016890277435090773, average MAPE: 6.97575207340474                                                                                                                                                             \n",
      "Epoch 28/100, lr: 6.4e-04, average MSE (log10) loss: 0.0016588457351626486, average MAPE: 6.912053481899962                                                                                                                                                             \n",
      "Epoch 29/100, lr: 6.4e-04, average MSE (log10) loss: 0.0016467578851674892, average MAPE: 6.8904920422301                                                                                                                                                             \n",
      "Epoch 30/100, lr: 6.4e-04, average MSE (log10) loss: 0.0016214960568337415, average MAPE: 6.835737210877087                                                                                                                                                             \n",
      "Epoch 31/100, lr: 6.4e-04, average MSE (log10) loss: 0.0016009328920128091, average MAPE: 6.800268317242058                                                                                                                                                             \n",
      "Epoch 32/100, lr: 6.4e-04, average MSE (log10) loss: 0.001578568205313415, average MAPE: 6.751285428416972                                                                                                                                                             \n",
      "Epoch 33/100, lr: 6.4e-04, average MSE (log10) loss: 0.001558485337799149, average MAPE: 6.70878080445893                                                                                                                                                             \n",
      "Epoch 34/100, lr: 6.4e-04, average MSE (log10) loss: 0.0015393973275905058, average MAPE: 6.667572496375259                                                                                                                                                             \n",
      "Epoch 35/100, lr: 6.4e-04, average MSE (log10) loss: 0.0015164439243321515, average MAPE: 6.619801406471097                                                                                                                                                             \n",
      "Epoch 36/100, lr: 6.4e-04, average MSE (log10) loss: 0.0015010256614840151, average MAPE: 6.59041193748007                                                                                                                                                             \n",
      "Epoch 37/100, lr: 6.4e-04, average MSE (log10) loss: 0.0014832991688531272, average MAPE: 6.5543309581523035                                                                                                                                                             \n",
      "Epoch 38/100, lr: 6.4e-04, average MSE (log10) loss: 0.0014714325412309595, average MAPE: 6.530773676658163                                                                                                                                                             \n",
      "Epoch 39/100, lr: 6.4e-04, average MSE (log10) loss: 0.001454949244970874, average MAPE: 6.496753307264679                                                                                                                                                             \n",
      "Epoch 40/100, lr: 5.1e-04, average MSE (log10) loss: 0.0014293075277831177, average MAPE: 6.4363506862095425                                                                                                                                                             \n",
      "Epoch 41/100, lr: 5.1e-04, average MSE (log10) loss: 0.001412363354667869, average MAPE: 6.396549287134287                                                                                                                                                             \n",
      "Epoch 42/100, lr: 5.1e-04, average MSE (log10) loss: 0.0014076612642681112, average MAPE: 6.391567376195168                                                                                                                                                             \n",
      "Epoch 43/100, lr: 5.1e-04, average MSE (log10) loss: 0.0013879994966317804, average MAPE: 6.346183998730718                                                                                                                                                             \n",
      "Epoch 44/100, lr: 4.1e-04, average MSE (log10) loss: 0.0013750892678959941, average MAPE: 6.318814552073576                                                                                                                                                             \n",
      "Epoch 45/100, lr: 4.1e-04, average MSE (log10) loss: 0.0013637748746467488, average MAPE: 6.2945390078486225                                                                                                                                                             \n",
      "Epoch 46/100, lr: 4.1e-04, average MSE (log10) loss: 0.0013532680934485123, average MAPE: 6.268422866354183                                                                                                                                                             \n",
      "Epoch 47/100, lr: 4.1e-04, average MSE (log10) loss: 0.0013410401235961792, average MAPE: 6.244147185890042                                                                                                                                                             \n",
      "Epoch 48/100, lr: 4.1e-04, average MSE (log10) loss: 0.0013367105731550528, average MAPE: 6.235653976518281                                                                                                                                                             \n",
      "Epoch 49/100, lr: 4.1e-04, average MSE (log10) loss: 0.001327597669192723, average MAPE: 6.217872294601129                                                                                                                                                             \n",
      "Epoch 50/100, lr: 4.1e-04, average MSE (log10) loss: 0.0013160637332772721, average MAPE: 6.1902585710797995                                                                                                                                                             \n",
      "Epoch 51/100, lr: 4.1e-04, average MSE (log10) loss: 0.0013122468540559009, average MAPE: 6.185198682668258                                                                                                                                                             \n",
      "Epoch 52/100, lr: 3.3e-04, average MSE (log10) loss: 0.0012998441666630762, average MAPE: 6.155996462763572                                                                                                                                                             \n",
      "Epoch 53/100, lr: 3.3e-04, average MSE (log10) loss: 0.0012997452982188183, average MAPE: 6.157358893569635                                                                                                                                                             \n",
      "Epoch 54/100, lr: 3.3e-04, average MSE (log10) loss: 0.0012874172781879197, average MAPE: 6.1309556493953785                                                                                                                                                             \n",
      "Epoch 55/100, lr: 3.3e-04, average MSE (log10) loss: 0.0012794970629774795, average MAPE: 6.1100643177421725                                                                                                                                                             \n",
      "Epoch 56/100, lr: 2.6e-04, average MSE (log10) loss: 0.0012748522455899084, average MAPE: 6.100772810955437                                                                                                                                                             \n",
      "Epoch 57/100, lr: 2.6e-04, average MSE (log10) loss: 0.0012633626762663527, average MAPE: 6.073375598751769                                                                                                                                                             \n",
      "minibatch: 228/245, ratio: 1.4462e-02, best loss till now: 1.2595e-03, loss RMSE (log10) & MAPE -----  NN: 0.0012855538, 6.0513129; fit: 0.0888899565, 67.8757095\r"
     ]
    }
   ],
   "source": [
    "# Training loop\n",
    "ratio_losses=[]\n",
    "mse_per_minibatch_nn=[]\n",
    "mape_per_minibatch_nn=[]\n",
    "mse_per_minibatch_fit=[]\n",
    "mape_per_minibatch_fit=[]\n",
    "for epoch in range(epochs):\n",
    "    total_mse = 0.0\n",
    "    total_mape = 0.0\n",
    "    for batch_idx,el in enumerate(dataloader):\n",
    "        minibatch=el[:,:-3].to(device)\n",
    "        altitude=el[:,-2].to(device)\n",
    "        rho_target=el[:,-1].to(device)\n",
    "        delta_params = model(minibatch).to(device)\n",
    "\n",
    "        #Constructs the inputs for the compute_approximated_density function as corrections from the global fit:\n",
    "        params = best_global_fit*(1+delta_params)\n",
    "        rho_nn=tn.rho_approximation(h=altitude,\n",
    "                                                params=params,\n",
    "                                                backend='torch')\n",
    "        rho_fit=tn.rho_approximation(h=altitude,\n",
    "                                             params=best_global_fit,\n",
    "                                             backend='torch')\n",
    "\n",
    "        loss = criterion(rho_nn, rho_target)\n",
    "\n",
    "        #Computes the global fit loss:\n",
    "        loss_fit =  criterion(rho_fit, rho_target)\n",
    "\n",
    "        # Zeroes the gradient (necessary because of things)\n",
    "        optimizer.zero_grad()\n",
    "\n",
    "        # Backward pass: compute gradient of the loss with respect to model parameters\n",
    "        loss.backward()\n",
    "\n",
    "        # Calling the step function on an Optimizer makes an update to its\n",
    "        # parameters\n",
    "        optimizer.step()\n",
    "        \n",
    "        # Perform a step in LR scheduler to update LR\n",
    "        scheduler.step(loss.item())\n",
    "\n",
    "        #We compute the logged quantities\n",
    "        mse_per_minibatch_nn.append(loss.item())\n",
    "        mape_per_minibatch_nn.append(tn.mean_absolute_percentage_error(rho_nn, rho_target).item())\n",
    "        total_mse+=mse_per_minibatch_nn[-1]\n",
    "        total_mape+=mape_per_minibatch_nn[-1]\n",
    "        \n",
    "        #Now the same but for the global fit:\n",
    "        mse_per_minibatch_fit.append(loss_fit.item())\n",
    "        mape_per_minibatch_fit.append(tn.mean_absolute_percentage_error(rho_fit, rho_target).item())\n",
    "\n",
    "        #Ratio of the loss between the NN and the fit (the lower, the more the NN is doing better than a global fit)\n",
    "        ratio_losses.append(loss.item()/loss_fit.item())\n",
    "        #Save the best model (this is wrong and should be done on the dataset):\n",
    "        if batch_idx>1:\n",
    "            if mse_per_minibatch_nn[-1]<min(mse_per_minibatch_nn[:-1]):    \n",
    "                #updating torch best model:\n",
    "                torch.save(model.state_dict(), f'../models/nrlmsise00_model_xxx.pyt')\n",
    "                best_loss=loss.item()\n",
    "                #print(f'Saving model - current best loss: {best_loss}\\n')\n",
    "        else:\n",
    "            best_loss=loss.item()\n",
    "        #Print every 10 minibatches:\n",
    "        if batch_idx%10:    \n",
    "            print(f'minibatch: {batch_idx}/{len(dataloader)}, ratio: {ratio_losses[-1]:.4e}, best loss till now: {best_loss:.4e}, loss RMSE (log10) & MAPE -----  NN: {loss.item():.10f}, {mape_per_minibatch_nn[-1]:.7f}; fit: {loss_fit.item():.10f}, {mape_per_minibatch_fit[-1]:.7f}', end='\\r')\n",
    "    #Print at the end of the epoch\n",
    "    curr_lr = scheduler.optimizer.param_groups[0]['lr']\n",
    "    print(f'Epoch {epoch + 1}/{epochs}, lr: {curr_lr:.1e}, average MSE (log10) loss: {total_mse / len(dataloader)}, average MAPE: {total_mape / len(dataloader)}                                                                                                                                                             ')\n"
   ]
  },
  {
   "cell_type": "code",
   "execution_count": 55,
   "metadata": {},
   "outputs": [],
   "source": [
    "delta_params = model(torch_data[:,:-3]).to(device)\n",
    "params = best_global_fit*(1+delta_params)\n",
    "rho_nn=tn.rho_approximation(h=torch_data[:,-2],params=params,backend='torch')\n",
    "rho_fit=tn.rho_approximation(h=torch_data[:,-2],params=best_global_fit,backend='torch')\n"
   ]
  },
  {
   "cell_type": "code",
   "execution_count": 60,
   "metadata": {},
   "outputs": [
    {
     "data": {
      "text/plain": [
       "(array([7.64500e+03, 2.64130e+04, 4.06470e+04, 4.90810e+04, 5.72110e+04,\n",
       "        7.10660e+04, 9.92010e+04, 1.13134e+05, 1.03492e+05, 8.40460e+04,\n",
       "        6.50050e+04, 4.75570e+04, 3.65600e+04, 2.81690e+04, 2.27910e+04,\n",
       "        1.85690e+04, 1.53900e+04, 1.29820e+04, 1.11430e+04, 9.65900e+03,\n",
       "        8.51100e+03, 7.53300e+03, 6.59300e+03, 5.89700e+03, 5.42100e+03,\n",
       "        4.88700e+03, 4.48700e+03, 4.00200e+03, 3.50700e+03, 3.02000e+03,\n",
       "        2.87500e+03, 2.59500e+03, 2.19800e+03, 1.99900e+03, 1.73000e+03,\n",
       "        1.54300e+03, 1.40000e+03, 1.22100e+03, 1.07700e+03, 9.33000e+02,\n",
       "        8.67000e+02, 7.99000e+02, 7.22000e+02, 6.26000e+02, 5.09000e+02,\n",
       "        4.84000e+02, 4.68000e+02, 4.05000e+02, 3.59000e+02, 3.49000e+02,\n",
       "        2.93000e+02, 2.94000e+02, 2.83000e+02, 2.28000e+02, 2.00000e+02,\n",
       "        1.67000e+02, 1.66000e+02, 1.41000e+02, 1.45000e+02, 1.29000e+02,\n",
       "        1.14000e+02, 9.50000e+01, 8.10000e+01, 7.80000e+01, 7.30000e+01,\n",
       "        6.00000e+01, 5.90000e+01, 7.40000e+01, 4.90000e+01, 4.20000e+01,\n",
       "        3.00000e+01, 2.40000e+01, 2.40000e+01, 1.10000e+01, 2.30000e+01,\n",
       "        9.00000e+00, 1.60000e+01, 7.00000e+00, 1.50000e+01, 1.40000e+01,\n",
       "        1.00000e+01, 6.00000e+00, 6.00000e+00, 7.00000e+00, 7.00000e+00,\n",
       "        1.00000e+00, 4.00000e+00, 3.00000e+00, 5.00000e+00, 4.00000e+00,\n",
       "        2.00000e+00, 0.00000e+00, 2.00000e+00, 1.00000e+00, 1.00000e+00,\n",
       "        3.00000e+00, 2.00000e+00, 7.00000e+00, 2.00000e+00, 5.00000e+00]),\n",
       " array([ 0.03778633,  0.15152147,  0.26525661,  0.37899174,  0.49272688,\n",
       "         0.60646202,  0.72019715,  0.83393229,  0.94766743,  1.06140256,\n",
       "         1.1751377 ,  1.28887284,  1.40260797,  1.51634311,  1.63007825,\n",
       "         1.74381338,  1.85754852,  1.97128366,  2.08501879,  2.19875393,\n",
       "         2.31248907,  2.4262242 ,  2.53995934,  2.65369448,  2.76742961,\n",
       "         2.88116475,  2.99489989,  3.10863502,  3.22237016,  3.3361053 ,\n",
       "         3.44984043,  3.56357557,  3.67731071,  3.79104584,  3.90478098,\n",
       "         4.01851612,  4.13225126,  4.24598639,  4.35972153,  4.47345667,\n",
       "         4.5871918 ,  4.70092694,  4.81466208,  4.92839721,  5.04213235,\n",
       "         5.15586749,  5.26960262,  5.38333776,  5.4970729 ,  5.61080803,\n",
       "         5.72454317,  5.83827831,  5.95201344,  6.06574858,  6.17948372,\n",
       "         6.29321885,  6.40695399,  6.52068913,  6.63442426,  6.7481594 ,\n",
       "         6.86189454,  6.97562967,  7.08936481,  7.20309995,  7.31683508,\n",
       "         7.43057022,  7.54430536,  7.65804049,  7.77177563,  7.88551077,\n",
       "         7.99924591,  8.11298104,  8.22671618,  8.34045132,  8.45418645,\n",
       "         8.56792159,  8.68165673,  8.79539186,  8.909127  ,  9.02286214,\n",
       "         9.13659727,  9.25033241,  9.36406755,  9.47780268,  9.59153782,\n",
       "         9.70527296,  9.81900809,  9.93274323, 10.04647837, 10.1602135 ,\n",
       "        10.27394864, 10.38768378, 10.50141891, 10.61515405, 10.72888919,\n",
       "        10.84262432, 10.95635946, 11.0700946 , 11.18382973, 11.29756487,\n",
       "        11.41130001]),\n",
       " <BarContainer object of 100 artists>)"
      ]
     },
     "execution_count": 60,
     "metadata": {},
     "output_type": "execute_result"
    },
    {
     "data": {
      "image/png": "[encoded data removed]",
      "text/plain": [
       "<Figure size 640x480 with 1 Axes>"
      ]
     },
     "metadata": {},
     "output_type": "display_data"
    }
   ],
   "source": [
    "predictions = rho_nn.detach().numpy()\n",
    "gt = target_density\n",
    "plt.hist((predictions/gt),bins=100,alpha=0.5)\n",
    "plt.hist((rho_fit/gt),bins=100,alpha=0.5)\n",
    "\n",
    "#plt.hist(np.abs(predictions-gt)/np.abs(gt)*100, bins=100)"
   ]
  },
  {
   "cell_type": "code",
   "execution_count": 53,
   "metadata": {},
   "outputs": [
    {
     "data": {
      "text/plain": [
       "0.0"
      ]
     },
     "execution_count": 53,
     "metadata": {},
     "output_type": "execute_result"
    }
   ],
   "source": [
    "np.log10(1)"
   ]
  },
  {
   "cell_type": "code",
   "execution_count": null,
   "metadata": {},
   "outputs": [],
   "source": []
  }
 ],
 "metadata": {
  "kernelspec": {
   "display_name": "thermonets",
   "language": "python",
   "name": "python3"
  },
  "language_info": {
   "codemirror_mode": {
    "name": "ipython",
    "version": 3
   },
   "file_extension": ".py",
   "mimetype": "text/x-python",
   "name": "python",
   "nbconvert_exporter": "python",
   "pygments_lexer": "ipython3",
   "version": "3.11.7"
  },
  "orig_nbformat": 4
 },
 "nbformat": 4,
 "nbformat_minor": 2
}
