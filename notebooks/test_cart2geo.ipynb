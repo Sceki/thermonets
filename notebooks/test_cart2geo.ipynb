{
 "cells": [
  {
   "cell_type": "code",
   "execution_count": 2,
   "metadata": {},
   "outputs": [
    {
     "name": "stdout",
     "output_type": "stream",
     "text": [
      "The autoreload extension is already loaded. To reload it, use:\n",
      "  %reload_ext autoreload\n"
     ]
    }
   ],
   "source": [
    "import sys\n",
    "sys.path.append('../')\n",
    "\n",
    "import thermonets as tn\n",
    "import numpy as np\n",
    "import heyoka as hy\n",
    "import pykep as pk\n",
    "\n",
    "# plotting stuff\n",
    "import matplotlib.pyplot as plt\n",
    "from mpl_toolkits import mplot3d\n",
    "%matplotlib inline\n",
    "\n",
    "# Ensure that changes in imported module (gravann most importantly) are autoreloaded\n",
    "%load_ext autoreload\n",
    "%autoreload 2"
   ]
  },
  {
   "cell_type": "markdown",
   "metadata": {},
   "source": [
    "## Error test for cart2geo"
   ]
  },
  {
   "cell_type": "code",
   "execution_count": 3,
   "metadata": {},
   "outputs": [
    {
     "name": "stdout",
     "output_type": "stream",
     "text": [
      "Max error: 0.0036154016852378845 m\n"
     ]
    }
   ],
   "source": [
    "err = []\n",
    "iters = 4\n",
    "earth_radius = 6371000\n",
    "for i in range(300000):\n",
    "    a = np.random.uniform(earth_radius + 100000, earth_radius + 700000)\n",
    "    e = np.random.uniform(0, 0.2)\n",
    "    i = np.random.uniform(-np.pi,np.pi)\n",
    "    W = np.random.uniform(0,2*np.pi)\n",
    "    w = np.random.uniform(0.,2*np.pi)\n",
    "    M = np.random.uniform(0., 2*np.pi)\n",
    "    r,v = pk.par2ic([a,e,i,W,w,M], pk.MU_EARTH)\n",
    "    x,y,z = r\n",
    "    truth = np.array(tn.cart2geo(x,y,z, iters=12))\n",
    "    approx = tn.cart2geo(x,y,z, iters=iters)\n",
    "    err.append(np.linalg.norm(np.array(approx) - truth))\n",
    "print(\"Max error:\", np.max(err), \"m\")"
   ]
  },
  {
   "cell_type": "code",
   "execution_count": 3,
   "metadata": {},
   "outputs": [
    {
     "data": {
      "image/png": "[encoded data removed]",
      "text/plain": [
       "<Figure size 640x480 with 1 Axes>"
      ]
     },
     "metadata": {},
     "output_type": "display_data"
    }
   ],
   "source": [
    "err = np.array(err)\n",
    "plt.hist(np.log10(err[err>0]), bins=30);"
   ]
  },
  {
   "cell_type": "code",
   "execution_count": 11,
   "metadata": {},
   "outputs": [],
   "source": [
    "x,y,z = hy.make_vars(\"x\",\"y\",\"z\")\n",
    "h, phi, lam = tn.cart2geo(x,y,z, iters=12, symbolic=True)"
   ]
  },
  {
   "cell_type": "code",
   "execution_count": 5,
   "metadata": {},
   "outputs": [
    {
     "data": {
      "text/plain": [
       "161"
      ]
     },
     "execution_count": 5,
     "metadata": {},
     "output_type": "execute_result"
    }
   ],
   "source": [
    "cf = hy.make_cfunc([h], vars= [x,y,z])\n",
    "len(cf.decomposition)"
   ]
  }
 ],
 "metadata": {
  "kernelspec": {
   "display_name": "thermonets",
   "language": "python",
   "name": "python3"
  },
  "language_info": {
   "codemirror_mode": {
    "name": "ipython",
    "version": 3
   },
   "file_extension": ".py",
   "mimetype": "text/x-python",
   "name": "python",
   "nbconvert_exporter": "python",
   "pygments_lexer": "ipython3",
   "version": "3.11.7"
  }
 },
 "nbformat": 4,
 "nbformat_minor": 2
}
