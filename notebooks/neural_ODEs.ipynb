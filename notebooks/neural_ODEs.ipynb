{
 "cells": [
  {
   "cell_type": "markdown",
   "metadata": {},
   "source": [
    "# thermoNET model improvement via Neural ODEs\n",
    "\n",
    "In this notebook, we show how the differentiability of the thermoNET can be used to update the weights and biases of the network for some given downstream task.\n",
    "\n",
    "In this case, we focus on trajectory estimation: our objective is to improve the thermoNET model to better match simulated or observed satellite trajectories. The idea is that after having trained a thermoNET on a given model (e.g. see `nrlmsise00_train.ipynb` or `jb08_train.ipynb`), the parameters of the network can be still adjusted to match external simulated or observed data, for a specific downstream task of interest: this can be done leveraging the Neural ODE framework.\n"
   ]
  },
  {
   "cell_type": "code",
   "execution_count": 1,
   "metadata": {},
   "outputs": [
    {
     "name": "stdout",
     "output_type": "stream",
     "text": [
      "The EOP file 'finals2000A.all' in /Users/ga00693/src/iers/ is already the latest.\n",
      "The Leap Second file 'Leap_Second.dat' in /Users/ga00693/src/iers/ is already the latest.\n"
     ]
    }
   ],
   "source": [
    "import sys\n",
    "sys.path.append('../')\n",
    "import numpy as np\n",
    "import thermonets as tn\n",
    "import datetime\n",
    "import heyoka as hk\n",
    "import pickle\n",
    "import time\n",
    "from nrlmsise00 import msise_flat\n",
    "from scipy.integrate import solve_ivp\n",
    "import matplotlib.pyplot as plt"
   ]
  },
  {
   "cell_type": "markdown",
   "metadata": {},
   "source": [
    "## 1 - Equations of motion\n",
    "\n",
    "In the notebook `orbit_propagation_with_thermoNET.ipynb`, we have introduced the simplified equations of motion for a satellite in LEO with drag. As we have shown, we replace the thermospheric density model in the drag term (i.e., NRLMSISE-00, or JB-08, ..) with a neural network. We will now construct the equations of motion and the integrator, without discussing again all the assumptions and theory. If interested, the reader can checkout the abovementioned notebook."
   ]
  },
  {
   "cell_type": "markdown",
   "metadata": {},
   "source": [
    "First, some useful constants:"
   ]
  },
  {
   "cell_type": "code",
   "execution_count": 2,
   "metadata": {},
   "outputs": [
    {
     "name": "stdout",
     "output_type": "stream",
     "text": [
      "The Space Weather files 'SOLFSMY.TXT' and 'DTCFILE.TXT' in /Users/ga00693/src/sw-data/ are already the latest.\n"
     ]
    }
   ],
   "source": [
    "#First we need to set some variables useful for integration:\n",
    "mu = 3.986004407799724e14                  #Earth gravitational parameter SI\n",
    "r_earth = 6378.1363*1e3                    #Earth radius SI\n",
    "initial_h=280.*1e3                         #Satellite's initial altitude SI\n",
    "mass=200                                   #mass of the satellite SI\n",
    "area=2                                     #drag cross-sectional area of the satellite in SI\n",
    "cd=2.2                                     #drag coefficient [-]\n",
    "bc = mass/(cd*area)                        #ballistic coefficient in SI\n",
    "omega_e = 7.2921150e-5                     #Earth rotation rate SI\n",
    "date0 = datetime.datetime(2015,3,4,9,0,0) #initial absolute time for the propagation\n",
    "date0_mjd = tn.mjd(date0)\n",
    "#we extract the spaceweather indices for the date of the integration\n",
    "f107,f107a,s107,s107a,m107,m107a,y107,y107a,dDstdT = tn.get_jb08_spaceweather_indices(date0)\n",
    "\n",
    "#we assume a circular orbit at first\n",
    "initial_state=[r_earth+initial_h,0.,0., 0., np.sqrt(mu/(r_earth+initial_h)),0.]\n",
    "t_span=(0.,60.*60.*10.) #10 hours propagation\n"
   ]
  },
  {
   "cell_type": "markdown",
   "metadata": {},
   "source": [
    "Now, let us construct the equations of motion with the thermoNET neural model, and let's use the Taylor propagator `heyoka` to integrate them.\n",
    "\n",
    "First, we need to load the models weights and biases:"
   ]
  },
  {
   "cell_type": "code",
   "execution_count": 3,
   "metadata": {},
   "outputs": [],
   "source": [
    "#NN in heyoka - creation\n",
    "with open('../models/nn_parameters_jb08_model_10_32_32_1.43.pk','rb') as f:\n",
    "     weights,biases=pickle.load(f)\n",
    "#we need to flatten them for feeding them to heyoka: \n",
    "weights_flat=[]\n",
    "biases_flat=[] \n",
    "for i in range(len(weights)):\n",
    "    weights_flat+=list(weights[i].T.flatten())\n",
    "    biases_flat+=list(biases[i].flatten())\n",
    "weights_flat=np.array(weights_flat)\n",
    "biases_flat=np.array(biases_flat)\n",
    "flattened_nw=np.concatenate((weights_flat,biases_flat))"
   ]
  },
  {
   "cell_type": "markdown",
   "metadata": {},
   "source": [
    "then we prepare all the inputs for the network:"
   ]
  },
  {
   "cell_type": "code",
   "execution_count": 4,
   "metadata": {},
   "outputs": [],
   "source": [
    "#we first instantiate the state variables as heyoka variables:\n",
    "x,y,z,vx,vy,vz=hk.make_vars(\"x\",\"y\",\"z\",\"vx\",\"vy\",\"vz\")\n",
    "#we construct the Earth rotation matrix, assuming that at t=0 the vernal equinox is aligned with the x-axis of the ECEF frame (prime meridian)\n",
    "R=[[hk.cos(omega_e*hk.time),hk.sin(omega_e*hk.time)],[-hk.sin(omega_e*hk.time),hk.cos(omega_e*hk.time)]]\n",
    "#we transform x,y into the ECEF frame:\n",
    "xy_ecef=np.matmul(R,[x,y])\n",
    "#transformation from Cartesian to Geodetic:\n",
    "altitude,lat,lon=tn.cart2geo(xy_ecef[0],xy_ecef[1],z,symbolic=True)\n",
    "#first latitude and longitude\n",
    "sin_lon=hk.sin(lon)\n",
    "cos_lon=hk.cos(lon)\n",
    "lat_n=tn.normalize_min_max(lat,-np.pi/2,np.pi/2)\n",
    "# This is the date we start our integration at\n",
    "offset=date0.second+date0.minute*60.+date0.hour*3600.\n",
    "#seconds in the day\n",
    "sec_in_day_n=(hk.time+offset)/86400.*2*np.pi\n",
    "sin_sec_in_day=hk.sin(sec_in_day_n)\n",
    "cos_sec_in_day=hk.cos(sec_in_day_n)\n",
    "#day of the year\n",
    "doy=date0.timetuple().tm_yday+hk.time/86400.\n",
    "sin_doy = hk.sin(2*np.pi*doy/365.25)\n",
    "cos_doy = hk.cos(2*np.pi*doy/365.25)\n",
    "\n",
    "f107_n=tn.normalize_min_max(f107, 60., 266.)\n",
    "f107a_n=tn.normalize_min_max(f107a, 60., 170.)\n",
    "s107_n=tn.normalize_min_max(s107, 50., 190.)\n",
    "s107a_n=tn.normalize_min_max(s107a, 50., 170.)\n",
    "m107_n=tn.normalize_min_max(m107, 50., 190.)\n",
    "m107a_n=tn.normalize_min_max(m107a, 50., 160.)\n",
    "y107_n=tn.normalize_min_max(y107, 50., 180.)\n",
    "y107a_n=tn.normalize_min_max(y107a, 50., 170.)\n",
    "dDstdT_n=tn.normalize_min_max(dDstdT, 0., 390.)\n"
   ]
  },
  {
   "cell_type": "markdown",
   "metadata": {},
   "source": [
    "we load the global fit"
   ]
  },
  {
   "cell_type": "code",
   "execution_count": 5,
   "metadata": {},
   "outputs": [],
   "source": [
    "with open('../global_fits/global_fit_jb08_180.0-1000.0-4.txt','rb') as f:\n",
    "    best_global_fit=pickle.load(f)\n"
   ]
  },
  {
   "cell_type": "markdown",
   "metadata": {},
   "source": [
    "then we construct the thermoNET:"
   ]
  },
  {
   "cell_type": "code",
   "execution_count": 6,
   "metadata": {},
   "outputs": [
    {
     "name": "stdout",
     "output_type": "stream",
     "text": [
      "((exp(((0.0036156275901554277 + (0.0036156275901554277 * tanh((p1988 + (p1664 * tanh((p1952 + (p512 * tanh((p1920 + (0.24545454545454537 * p8) + (0.27000000000000002 * p9) + (0.31142857142857161 * p11) + (0.40769230769230780 * p13) + (0.44833333333333347 * p10) + (0.57499999999999996 * p14) + (0.59636363636363665 * p12) + (0.63661977236758138 * p2 * atan((z / ((1.0000000000000000 - ((42697.672707539066 * cos(atan((z / ((1.0000000000000000 - ((42697.672707539066 * cos(atan((z / ((1.0000000000000000 - ((42697.672707539066 * cos(atan((z / ((1.0000000000000000 - ((42697.672707539066 * cos(atan(((1.0067394967423335 * z) / (((y * cos((7.2921149999999999e-05 * t))) - (x * sin((7.2921149999999999e-05 * t))))**2.0000000000000000 + ((x * cos((7.2921149999999999e-05 * t))) + (y * sin((7.2921149999999999e-05 * t))))**2.0000000000000000)**0.50000000000000000)))) / ((1.0000000000000000 - (0.0066943799901976186 * sin(atan(((1.0067394967423335 * z) / (((y * cos((7.2921149999999999e-05 * t))) - (x * sin(...\n"
     ]
    }
   ],
   "source": [
    "#we now construct the neural network in heyoka:\n",
    "delta_params=hk.model.ffnn(inputs=[sin_lon,cos_lon,lat_n,sin_sec_in_day, cos_sec_in_day, sin_doy, cos_doy, hk.expression(f107_n), hk.expression(f107a_n), hk.expression(s107_n), hk.expression(s107a_n), hk.expression(m107_n), hk.expression(m107a_n), hk.expression(y107_n), hk.expression(y107a_n), hk.expression(dDstdT_n)],\n",
    "                           nn_hidden=[32,32], \n",
    "                           n_out=12, \n",
    "                           activations=[hk.tanh,hk.tanh,hk.tanh]#, nn_wb=flattened_nw\n",
    "                           )\n",
    "\n",
    "#and use this to construct the density:\n",
    "params=[best_global_fit[i]*(1+delta_params[i]) for i in range(12)]\n",
    "density_nn = tn.rho_approximation(altitude/1e3,params,backend='heyoka')\n",
    "print(density_nn)"
   ]
  },
  {
   "cell_type": "markdown",
   "metadata": {},
   "source": [
    "finally let's construct the equations of motion:"
   ]
  },
  {
   "cell_type": "code",
   "execution_count": 7,
   "metadata": {},
   "outputs": [],
   "source": [
    "akepler_x=-mu*x*(x**2+y**2+z**2)**(-3/2)\n",
    "akepler_y=-mu*y*(x**2+y**2+z**2)**(-3/2)\n",
    "akepler_z=-mu*z*(x**2+y**2+z**2)**(-3/2)\n",
    "\n",
    "vrel_x=vx+omega_e*y\n",
    "vrel_y=vy-omega_e*x\n",
    "adragx=-1/2*density_nn*vx*hk.sqrt(vrel_x**2+vrel_y**2+vz**2)/bc\n",
    "adragy=-1/2*density_nn*vy*hk.sqrt(vrel_x**2+vrel_y**2+vz**2)/bc\n",
    "adragz=-1/2*density_nn*vz*hk.sqrt(vrel_x**2+vrel_y**2+vz**2)/bc\n",
    "dyn_drag=[(x,vx), (y,vy), (z,vz), (vx,akepler_x+adragx), (vy,akepler_y+adragy), (vz,akepler_z+adragz)]"
   ]
  },
  {
   "cell_type": "markdown",
   "metadata": {},
   "source": [
    "## 2 - Variational Equations\n",
    "\n",
    "As shown above, the equations of motion have the following form:\n",
    "\n",
    "\\begin{equation}\n",
    "\\dot{\\pmb{x}}=\\pmb{f}(\\pmb{x}, t, \\pmb{\\theta} )\\text{,}\n",
    "\\end{equation}\n",
    "\n",
    "where $\\pmb{\\theta}$ is the vector of weights and biases (i.e., parameters) of the neural network $\\mathcal{N}$. Due to the presence of a neural network in the right-hand side of the equations of motion, these ODEs are also known as [Neural ODEs](https://arxiv.org/abs/1806.07366). Even though the parameters have been already trained for a specific task (i.e., match a certain density model), we are now introducing this model in a dynamical system, and we might want to minimize a certain objective function (i.e., loss):\n",
    "\\begin{equation}\n",
    "\\mathcal{L}(\\pmb{x}(\\pmb{x}_0, \\pmb{\\theta},t))\\text{.}\n",
    "\\end{equation}\n",
    "\n",
    "For instance, we might want to minimize the residual error between a trajectory predicted with thermoNET and one found via a another orbit propagation model, or an observed one. \n",
    "\n",
    "In this way, we would change the network parameters to have a better agreement with ground truth data or precise orbit propagation.\n",
    "\n",
    "How? Leveraging the differentiability of the neural networks, we can setup a stochastic gradient descent training pipeline. Our minimization problem consists in correcting the neural network parameters (i.e., $\\pmb{\\theta}$) so that a certain loss is minimized:\n",
    "\n",
    "\\begin{equation}\n",
    "\\mathcal{P}:\n",
    "\\begin{cases}\n",
    "&\\textrm{given} \\ \\pmb{x}_0, t_0\\\\\n",
    "&\\textrm{find} \\ \\pmb{\\theta}\\\\\n",
    "&\\textrm{to} \\ \\textrm{minimize} \\ \\mathcal{L}_\\theta(\\pmb{x}) \n",
    "\\end{cases}\n",
    "\\end{equation}\n",
    "\n",
    "Once the gradient of the loss w.r.t. $\\pmb{\\theta}$ is found, the parameters can be iteratively updated, starting from the initial network parameters. For instance following the direction opposite to the loss gradient:\n",
    "\n",
    "\\begin{equation}\n",
    "\\pmb{\\theta}_{i+1}=\\pmb{\\theta}_i-\\alpha\\dfrac{\\partial \\mathcal{L}}{\\partial \\pmb{\\theta}}=\\pmb{\\theta}_i-\\alpha\\dfrac{\\partial \\mathcal{L}}{\\partial \\pmb{x}}\\frac{\\partial \\pmb{x}}{\\partial \\pmb{\\theta}} \\text{,}\n",
    "\\end{equation}\n",
    "where $\\alpha$ is the learning rate.\n",
    "\n",
    "To make the above computation, we need to first compute the partial derivatives of the loss w.r.t. the state, and then the partial derivatives of the state w.r.t. the parameters. The latter can be done via integration of the following variational equations:\n",
    "\n",
    "\\begin{equation}\n",
    "\\dfrac{\\partial}{\\partial \\pmb{\\theta}}\\dfrac{d\\pmb{x}}{dt} = \\dfrac{\\partial\\pmb{f}}{\\partial \\pmb{\\theta}}\\text{,}\n",
    "\\end{equation}\n",
    "\n",
    "which can be further developed, yielding:\n",
    "\n",
    "\\begin{equation}\n",
    "\\dfrac{d}{dt}\\dfrac{\\partial \\pmb{x}}{\\partial \\pmb{\\theta}} = \\dfrac{\\partial \\pmb{f}}{\\partial \\pmb{x}}\\dfrac{\\partial \\pmb{x}}{\\partial \\pmb{\\theta}}+\\dfrac{\\partial \\pmb{f}}{\\partial \\pmb{\\theta}}\n",
    "\\end{equation}\n",
    "\n",
    "Assuming that $\\pmb{x}\\in \\mathbb{R}^n$ and $\\pmb{\\theta}\\in \\mathbb{R}^m$, the above is a set of (n,m) variational equations that regulate all the evolution of the $\\dfrac{\\partial \\pmb{x}}{\\partial\\pmb{\\theta}}$ terms in time. \n",
    "\n",
    "Once these $m+n$ equations are solved, these terms are known at all integration times, thereby allowing to use them to update the network parameters."
   ]
  },
  {
   "cell_type": "markdown",
   "metadata": {},
   "source": [
    "\n",
    "Let us now proceed and define the variational equations in `heyoka`:"
   ]
  },
  {
   "cell_type": "code",
   "execution_count": 8,
   "metadata": {},
   "outputs": [
    {
     "name": "stdout",
     "output_type": "stream",
     "text": [
      "Shape of dFdtheta: (6, 1996)\n",
      "Shape of dFdx: (6, 6)\n"
     ]
    }
   ],
   "source": [
    "dynamics = [d[1] for d in dyn_drag]\n",
    "dFdtheta = hk.diff_tensors(dynamics, diff_args=hk.diff_args.params,diff_order=1)\n",
    "dFdtheta = dFdtheta.jacobian\n",
    "print(\"Shape of dFdtheta:\", dFdtheta.shape)\n",
    "\n",
    "dFdx = hk.diff_tensors(dynamics, [x,y,z,vx,vy,vz])\n",
    "dFdx= dFdx.jacobian\n",
    "print(\"Shape of dFdx:\", dFdx.shape)"
   ]
  },
  {
   "cell_type": "code",
   "execution_count": 9,
   "metadata": {},
   "outputs": [],
   "source": [
    "symbols_phi = []\n",
    "for i in range(6):\n",
    "    for j in range(6):\n",
    "        # Here we define the symbol for the variations\n",
    "        symbols_phi.append(\"phi_\"+str(i)+str(j))  \n",
    "phi = np.array(hk.make_vars(*symbols_phi)).reshape((6, 6))\n",
    "\n",
    "# We define the symbols for varphi\n",
    "symbols_varphi = []\n",
    "for i in range(dFdtheta.shape[0]):\n",
    "    for j in range(dFdtheta.shape[1]):\n",
    "        # Here we define the symbol for the variations\n",
    "        symbols_varphi.append(\"varphi_\"+str(i)+str(j))  \n",
    "varphi = np.array(hk.make_vars(*symbols_varphi)).reshape((dFdtheta.shape[0], dFdtheta.shape[1]))"
   ]
  },
  {
   "cell_type": "code",
   "execution_count": 10,
   "metadata": {},
   "outputs": [],
   "source": [
    "# The (variational) equations of motion in matrix form\n",
    "dphidt = dFdx@phi\n",
    "dvarphidt =  dFdx.T@varphi + dFdtheta"
   ]
  },
  {
   "cell_type": "code",
   "execution_count": 11,
   "metadata": {},
   "outputs": [],
   "source": [
    "dyn = []\n",
    "# The \\dot x = f\n",
    "for lhs, rhs in dyn_drag:\n",
    "    dyn.append((lhs, rhs))\n",
    "# The variational equations for x0\n",
    "for lhs, rhs in zip(phi.flatten(),dphidt.flatten()):\n",
    "    dyn.append((lhs, rhs))\n",
    "# The variational equations for the thetas\n",
    "for lhs, rhs in zip(varphi.flatten(),dvarphidt.flatten()):\n",
    "    dyn.append((lhs, rhs))\n",
    "    \n",
    "# These are the initial conditions on the variational equations (the identity matrix) and zeros \n",
    "ic_var = np.eye(len(initial_state)).flatten().tolist() + [0.] * len(symbols_varphi)"
   ]
  },
  {
   "cell_type": "code",
   "execution_count": 12,
   "metadata": {},
   "outputs": [
    {
     "name": "stdout",
     "output_type": "stream",
     "text": [
      "--- 6.022392988204956 seconds --- to build the Taylor integrator\n"
     ]
    }
   ],
   "source": [
    "start_time = time.time()\n",
    "ta = hk.taylor_adaptive(\n",
    "    dyn,\n",
    "    initial_state + ic_var,\n",
    "    compact_mode = True,\n",
    "    tol = 1e-14\n",
    ")\n",
    "print(\"--- %s seconds --- to build the Taylor integrator\" % (time.time() - start_time))"
   ]
  },
  {
   "cell_type": "markdown",
   "metadata": {},
   "source": [
    "Now we have built the Taylor integrator with the variational equations, and we have all the equations that regulate the variations of the state w.r.t. the parameters. "
   ]
  },
  {
   "cell_type": "markdown",
   "metadata": {},
   "source": [
    "## 3 - Matching a Reference Trajectory with Neural ODEs\n",
    "\n",
    "Our objective is to match a different \"observed\" trajectory, in our case found by integrating the same trajectory with a different atmospheric model (e.g. NRLMSISE-00), but in general the same framework can be applied to precise observed (e.g. ephemeris) data.\n",
    "\n",
    "We define the loss between the simulated and the observed data. For this, we take $N$ control points where we compute the difference between the simulated and target trajectory, at different times:\n",
    "\n",
    "\\begin{equation}\n",
    "\\mathcal{L}_{\\pmb{\\theta}}= \\sum_{i=1}^N || \\pmb{x}(t_i)-\\pmb{x}_{\\textrm{T}}(t_i) ||^2\n",
    "\\end{equation}\n",
    "\n",
    "As shown above, to setup a gradient descent update algorithm, we need to compute: $\\dfrac{\\partial \\mathcal{L}}{\\partial \\pmb{x}}$ and $\\dfrac{\\partial \\pmb{x}}{\\partial \\pmb{\\theta}}$. While the former is trivial, the latter can be computed via the variational equations discussed above.\n",
    "\n",
    "Let's start setting up the problem.\n",
    "\n",
    "First, we need to simulate our target data (the same setup would apply if the data is instead observed). For this, we use the data generated via NRLMSISE-00 model:\n"
   ]
  },
  {
   "cell_type": "code",
   "execution_count": 13,
   "metadata": {},
   "outputs": [],
   "source": [
    "def dxdt_nrlmsise(t, state, mu, f107A, f107, ap, bc, date0, omega_e):\n",
    "    x,y,z,vx,vy,vz=state\n",
    "    #rotation matrix from ECI to ECEF (assuming )\n",
    "    R=[[np.cos(omega_e*t),np.sin(omega_e*t)],[-np.sin(omega_e*t),np.cos(omega_e*t)]]\n",
    "    xy_ecef=np.matmul(R,[x,y])\n",
    "    r=np.sqrt(x**2+y**2+z**2)\n",
    "    altitude,lat,long=tn.cart2geo(xy_ecef[0],xy_ecef[1],z)\n",
    "    #nrlmsise-00 density (takes: datetime, altitude [km], latitude [deg], longitude [deg], f107, f107A, ap)\n",
    "    rho=msise_flat(time=date0+datetime.timedelta(seconds=t), alt=altitude/1e3, lat=np.rad2deg(lat), lon=np.rad2deg(long), f107a=f107A, f107=f107, ap=ap)[5]*1e3\n",
    "    vrel_x=vx+omega_e*y\n",
    "    vrel_y=vy-omega_e*x\n",
    "    adrag_x=-1/2*rho*np.sqrt(vrel_x**2+vrel_y**2+vz**2)*vx/bc\n",
    "    adrag_y=-1/2*rho*np.sqrt(vrel_x**2+vrel_y**2+vz**2)*vy/bc\n",
    "    adrag_z=-1/2*rho*np.sqrt(vrel_x**2+vrel_y**2+vz**2)*vz/bc\n",
    "    ax=-mu*x/r**3+adrag_x\n",
    "    ay=-mu*y/r**3+adrag_y\n",
    "    az=-mu*z/r**3+adrag_z\n",
    "    return np.array([vx,vy,vz,ax,ay,az])"
   ]
  },
  {
   "cell_type": "code",
   "execution_count": 14,
   "metadata": {},
   "outputs": [],
   "source": [
    "#we extract the spaceweather indices for the date of the integration\n",
    "ap,f107,f107a = tn.get_nrlmsise00_spaceweather_indices(date0)"
   ]
  },
  {
   "cell_type": "code",
   "execution_count": 18,
   "metadata": {},
   "outputs": [],
   "source": [
    "sol = solve_ivp(dxdt_nrlmsise, \n",
    "                t_span, \n",
    "                initial_state, \n",
    "                args=(mu, f107a, f107, ap, bc, date0, omega_e), \n",
    "                method='DOP853',\n",
    "                rtol=1e-13,\n",
    "                atol=1e-14)\n",
    "#we extract 100 points from the solution:\n",
    "indexes=np.linspace(0,len(sol.t)-1,30,dtype=int)\n",
    "sol_target=sol.y[:,indexes].T\n",
    "times_target=sol.t[indexes]"
   ]
  },
  {
   "cell_type": "markdown",
   "metadata": {},
   "source": [
    "Comparison with `thermoNET` JB-08 trajectory:"
   ]
  },
  {
   "cell_type": "code",
   "execution_count": 24,
   "metadata": {},
   "outputs": [],
   "source": [
    "#we first propagate the dynamics & variational equations:\n",
    "ta.state[:]=initial_state+ic_var\n",
    "ta.time=0.\n",
    "ta.pars[:]=flattened_nw\n",
    "variational_equations_propagated=ta.propagate_grid(sol.t)"
   ]
  },
  {
   "cell_type": "code",
   "execution_count": 26,
   "metadata": {},
   "outputs": [
    {
     "data": {
      "text/plain": [
       "<matplotlib.legend.Legend at 0x2c2e75190>"
      ]
     },
     "execution_count": 26,
     "metadata": {},
     "output_type": "execute_result"
    },
    {
     "data": {
      "image/png": "[encoded data removed]",
      "text/plain": [
       "<Figure size 640x480 with 1 Axes>"
      ]
     },
     "metadata": {},
     "output_type": "display_data"
    }
   ],
   "source": [
    "altitude_simulated = (np.sqrt(variational_equations_propagated[-1][:,0]**2+variational_equations_propagated[-1][:,1]**2+variational_equations_propagated[-1][:,2]**2)-r_earth)/1e3\n",
    "altitude_target = (np.sqrt(sol.y.T[:,0]**2+sol.y.T[:,1]**2+sol.y.T[:,2]**2)-r_earth)/1e3\n",
    "plt.plot(sol.t/60/60,altitude_simulated,label='simulated')\n",
    "plt.plot(sol.t/60/60,altitude_target,label='target')\n",
    "plt.grid()\n",
    "plt.xlabel('Time [hours]')\n",
    "plt.ylabel('Altitude [km]')\n",
    "plt.legend()"
   ]
  },
  {
   "cell_type": "markdown",
   "metadata": {},
   "source": [
    "all right, now that we have generated the reference trajectory, we can setup gradient descent iterations:"
   ]
  },
  {
   "cell_type": "code",
   "execution_count": 28,
   "metadata": {},
   "outputs": [
    {
     "name": "stdout",
     "output_type": "stream",
     "text": [
      "Epoch: 0 Loss: 189568.83521662073\n",
      "Epoch: 1 Loss: 27814.874331603718\n",
      "Epoch: 2 Loss: 7597.999185843271\n",
      "Epoch: 3 Loss: 3060.3993768203154\n",
      "Epoch: 4 Loss: 1909.2601884927135\n",
      "Epoch: 5 Loss: 1575.8527034573865\n",
      "Epoch: 6 Loss: 1464.3472340703747\n",
      "Epoch: 7 Loss: 1421.905315423824\n",
      "Epoch: 8 Loss: 1404.1785407792001\n",
      "Epoch: 9 Loss: 1396.362249145115\n",
      "Epoch: 10 Loss: 1392.852029392612\n",
      "Epoch: 11 Loss: 1391.2883497312284\n",
      "Epoch: 12 Loss: 1390.7174118957232\n",
      "Epoch: 13 Loss: 1390.4711994624704\n",
      "Epoch: 14 Loss: 1390.389648659349\n",
      "Epoch: 15 Loss: 1390.4084654271533\n",
      "Epoch: 16 Loss: 1390.4758224705558\n",
      "Epoch: 17 Loss: 1390.569841402668\n",
      "Epoch: 18 Loss: 1390.6860494463394\n",
      "Epoch: 19 Loss: 1390.812524621502\n",
      "Epoch: 20 Loss: 1390.9405670111414\n",
      "Epoch: 21 Loss: 1391.0695087044119\n",
      "Epoch: 22 Loss: 1391.1869115561683\n",
      "Epoch: 23 Loss: 1391.3023847168395\n",
      "Epoch: 24 Loss: 1391.418979616793\n",
      "Epoch: 25 Loss: 1391.5347089262493\n",
      "Epoch: 26 Loss: 1391.6528280461748\n",
      "Epoch: 27 Loss: 1391.7710625064703\n",
      "Epoch: 28 Loss: 1391.8972335880842\n",
      "Epoch: 29 Loss: 1392.0148625748661\n"
     ]
    }
   ],
   "source": [
    "lr=1e-3\n",
    "nn_parameters=flattened_nw.copy()\n",
    "n_epochs=30\n",
    "for epoch in range(n_epochs):\n",
    "    #we first propagate the dynamics & variational equations:\n",
    "    ta.state[:]=initial_state+ic_var\n",
    "    ta.time=0.\n",
    "    ta.pars[:]=nn_parameters\n",
    "    variational_equations_propagated=ta.propagate_grid(times_target)\n",
    "    #let's compute the term dloss_dx:\n",
    "    dloss_dx=2*(variational_equations_propagated[-1][:,:6]-sol_target)\n",
    "    #now the term dx_dw:\n",
    "    dx_dw=variational_equations_propagated[-1][:,6+36:].reshape((len(sol_target),6,-1))\n",
    "    #and we can therefore accumulate the graident dloss_dw for each point:\n",
    "    dloss_dw=0.\n",
    "    for i in range(dx_dw.shape[0]):\n",
    "        dloss_dw+=dloss_dx[i,:]@dx_dw[i]#this will have shape: nn parameters\n",
    "    dloss_dw/=dx_dw.shape[0]\n",
    "    #we update the parameters:\n",
    "    nn_parameters-=lr*dloss_dw\n",
    "    if epoch%10==0:\n",
    "        #we reduce the learning rate:\n",
    "        lr*=0.9\n",
    "    #we print the loss:\n",
    "    loss=np.mean((variational_equations_propagated[-1][:,:6]-sol_target)**2)\n",
    "    print(\"Epoch:\",epoch,\"Loss:\",loss)"
   ]
  },
  {
   "cell_type": "markdown",
   "metadata": {},
   "source": [
    "Post training, let's look how the new trajectory looks like:"
   ]
  },
  {
   "cell_type": "code",
   "execution_count": 35,
   "metadata": {},
   "outputs": [
    {
     "data": {
      "text/plain": [
       "(30, 6)"
      ]
     },
     "execution_count": 35,
     "metadata": {},
     "output_type": "execute_result"
    }
   ],
   "source": [
    "sol_target.shape"
   ]
  },
  {
   "cell_type": "code",
   "execution_count": 36,
   "metadata": {},
   "outputs": [
    {
     "data": {
      "text/plain": [
       "<matplotlib.legend.Legend at 0x2d8601910>"
      ]
     },
     "execution_count": 36,
     "metadata": {},
     "output_type": "execute_result"
    },
    {
     "data": {
      "image/png": "[encoded data removed]",
      "text/plain": [
       "<Figure size 640x480 with 1 Axes>"
      ]
     },
     "metadata": {},
     "output_type": "display_data"
    }
   ],
   "source": [
    "#let's plot the new trajectory:\n",
    "ta.state[:]=initial_state+ic_var\n",
    "ta.time=0.\n",
    "ta.pars[:]=nn_parameters\n",
    "variational_equations_propagated=ta.propagate_grid(sol.t)\n",
    "\n",
    "altitude_simulated = (np.sqrt(variational_equations_propagated[-1][:,0]**2+variational_equations_propagated[-1][:,1]**2+variational_equations_propagated[-1][:,2]**2)-r_earth)/1e3\n",
    "altitude_target = (np.sqrt(sol.y.T[:,0]**2+sol.y.T[:,1]**2+sol.y.T[:,2]**2)-r_earth)/1e3\n",
    "altitude_control_points = (np.sqrt(sol_target[:,0]**2+sol_target[:,1]**2+sol_target[:,2]**2)-r_earth)/1e3\n",
    "plt.plot(sol.t/60/60,altitude_simulated,label='simulated (after training)')\n",
    "plt.plot(sol.t/60/60,altitude_target,label='target')\n",
    "plt.plot(times_target/60/60,altitude_control_points,'*',label='training points')\n",
    "plt.grid()\n",
    "plt.xlabel('Time [hours]')\n",
    "plt.ylabel('Altitude [km]')\n",
    "plt.legend()"
   ]
  }
 ],
 "metadata": {
  "kernelspec": {
   "display_name": "thermonets",
   "language": "python",
   "name": "python3"
  },
  "language_info": {
   "codemirror_mode": {
    "name": "ipython",
    "version": 3
   },
   "file_extension": ".py",
   "mimetype": "text/x-python",
   "name": "python",
   "nbconvert_exporter": "python",
   "pygments_lexer": "ipython3",
   "version": "3.11.8"
  },
  "orig_nbformat": 4
 },
 "nbformat": 4,
 "nbformat_minor": 2
}
